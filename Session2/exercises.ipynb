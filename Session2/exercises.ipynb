{
 "cells": [
  {
   "cell_type": "code",
   "execution_count": 46,
   "metadata": {},
   "outputs": [],
   "source": [
    "#deps\n",
    "import numpy as np\n",
    "import scipy.stats as ss\n",
    "import matplotlib.pyplot as plt"
   ]
  },
  {
   "cell_type": "markdown",
   "metadata": {},
   "source": [
    "### (3.5.11) \n",
    "A computer system uses passwords that are exactly six characters and each character is one of the 26 letters (a-–z) or 10 integers (0-–9). Suppose that 10,000 users of the system have unique passwords. A hacker randomly selects (with replacement) 100,000 passwords from the potential set, and a match to a user’s password is called a hit.\n",
    "- What is the distribution of the number of hits? \n",
    "- What is the probability of no hits?\n",
    "- What are the mean and variance of the number of hits?"
   ]
  },
  {
   "cell_type": "code",
   "execution_count": 47,
   "metadata": {},
   "outputs": [
    {
     "data": {
      "text/plain": [
       "<matplotlib.collections.LineCollection at 0x16c553190>"
      ]
     },
     "execution_count": 47,
     "metadata": {},
     "output_type": "execute_result"
    },
    {
     "data": {
      "image/png": "[encoded data removed]",
      "text/plain": [
       "<Figure size 640x480 with 1 Axes>"
      ]
     },
     "metadata": {},
     "output_type": "display_data"
    }
   ],
   "source": [
    "# password length = 6\n",
    "# char count = 26 + 10 = 36\n",
    "# passwords count = 10000\n",
    "# number of possible passwords = 36^6\n",
    "\n",
    "p = 10000/pow(36,6)\n",
    "n = 100000\n",
    "\n",
    "rv = ss.binom(n, p)\n",
    "x = np.arange(ss.binom.ppf(0.01, n, p),\n",
    "              ss.binom.ppf(0.99, n, p))\n",
    "fig, ax = plt.subplots(1, 1)\n",
    "ax.vlines(x, 0, ss.binom.pmf(x, n, p), colors='b', lw=10)"
   ]
  },
  {
   "cell_type": "code",
   "execution_count": 48,
   "metadata": {},
   "outputs": [
    {
     "name": "stdout",
     "output_type": "stream",
     "text": [
      "0.6316658688216629\n"
     ]
    }
   ],
   "source": [
    "prob = ss.binom.pmf(0, n, p)\n",
    "print(prob)"
   ]
  },
  {
   "cell_type": "code",
   "execution_count": 49,
   "metadata": {},
   "outputs": [
    {
     "name": "stdout",
     "output_type": "stream",
     "text": [
      "Mean: 0.45939365799778337\n",
      "Variance: 0.45939154757245326\n"
     ]
    }
   ],
   "source": [
    "mean, var = ss.binom.stats(n, p, moments='mv')\n",
    "print(f'Mean: {mean}')\n",
    "print(f'Variance: {var}')"
   ]
  },
  {
   "cell_type": "markdown",
   "metadata": {},
   "source": [
    "### (3.5.13) \n",
    "Because all airline passengers do not show up for their reserved seat, an airline sells 125 tickets for a flight that holds only 120 passengers. The probability that a passenger does not show up is 0.10, and the passengers behave independently.\n",
    "- What is the probability that every passenger who shows up can take the flight? \n",
    "- What is the probability that the flight departs with empty seats?\n"
   ]
  },
  {
   "cell_type": "code",
   "execution_count": 50,
   "metadata": {},
   "outputs": [
    {
     "name": "stdout",
     "output_type": "stream",
     "text": [
      "Probability of every passanger being able to take a flight: 0.9961414046432231\n"
     ]
    }
   ],
   "source": [
    "p = 0.1\n",
    "n = 125 \n",
    "\n",
    "prob = 1 - ss.binom.cdf(4, n , p)\n",
    "print(f'Probability of every passanger being able to take a flight: {prob}')"
   ]
  },
  {
   "cell_type": "code",
   "execution_count": 51,
   "metadata": {},
   "outputs": [
    {
     "name": "stdout",
     "output_type": "stream",
     "text": [
      "Probability of departing with empty seats: 0.9885678127843244\n"
     ]
    }
   ],
   "source": [
    "p = 0.1\n",
    "n = 125\n",
    "\n",
    "prob = 1 - ss.binom.cdf(5, n, p)\n",
    "print(f'Probability of departing with empty seats: {prob}')"
   ]
  },
  {
   "cell_type": "markdown",
   "metadata": {},
   "source": [
    "### (3.6.6) \n",
    "A player of a video game is confronted with a series of opponents and has an 80% probability of defeating each one. Success with any opponent is independent of previous encounters. Until defeated, the player continues to contest opponents.\n",
    "- What is the probability mass function of the number of opponents contested in a game? \n",
    "- What is the probability that a player defeats at least two opponents in a game?\n",
    "- What is the expected number of opponents contested in a game?\n",
    "- What is the probability that a player contests four or more opponents in a game?\n",
    "- What is the expected number of game plays until a player contests four or more opponents?"
   ]
  },
  {
   "cell_type": "code",
   "execution_count": 52,
   "metadata": {},
   "outputs": [],
   "source": [
    "#Geometric distribution\n",
    "\n",
    "p=0.2\n",
    "# pmf = (1-p)^(x-1) * p \n",
    "# pmf = 0.8^(x-1) * 0.2"
   ]
  },
  {
   "cell_type": "code",
   "execution_count": 53,
   "metadata": {},
   "outputs": [
    {
     "name": "stdout",
     "output_type": "stream",
     "text": [
      "Probability of defeating at least 2 players: 0.64\n"
     ]
    }
   ],
   "source": [
    "prob = 1- ss.geom.cdf(2, p)\n",
    "print(f'Probability of defeating at least 2 players: {prob}')"
   ]
  },
  {
   "cell_type": "code",
   "execution_count": 57,
   "metadata": {},
   "outputs": [
    {
     "name": "stdout",
     "output_type": "stream",
     "text": [
      "Expected number of opponents: 5.0\n"
     ]
    }
   ],
   "source": [
    "expectedCount = ss.geom.mean(p)\n",
    "print(f'Expected number of opponents: {expectedCount}')"
   ]
  },
  {
   "cell_type": "code",
   "execution_count": 63,
   "metadata": {},
   "outputs": [
    {
     "name": "stdout",
     "output_type": "stream",
     "text": [
      "Probability of contesting four or more opponents: 0.512\n"
     ]
    }
   ],
   "source": [
    "prob = 1 - ss.geom.cdf(3, p)\n",
    "print(f'Probability of contesting four or more opponents: {prob}')"
   ]
  },
  {
   "cell_type": "code",
   "execution_count": 66,
   "metadata": {},
   "outputs": [
    {
     "name": "stdout",
     "output_type": "stream",
     "text": [
      "Expected number of plays until four or more: 1.953125\n"
     ]
    }
   ],
   "source": [
    "e = ss.geom.mean(prob)\n",
    "print(f'Expected number of plays until four or more: {e}')"
   ]
  },
  {
   "cell_type": "markdown",
   "metadata": {},
   "source": [
    "### (3.8.5) \n",
    "Astronomers treat the number of stars in a given volume of space as a Poisson random variable. The density in the Milky Way Galaxy in the vicinity of our solar system is one star per 16 cubic light- years.\n",
    "- What is the probability of two or more stars in 16 cubic light-years?\n",
    "- How many cubic light-years of space must be studied so that the probability of one or more stars exceeds 0.95?"
   ]
  },
  {
   "cell_type": "code",
   "execution_count": 71,
   "metadata": {},
   "outputs": [
    {
     "name": "stdout",
     "output_type": "stream",
     "text": [
      "Probability of two or more stars: 0.26424111765711533\n"
     ]
    }
   ],
   "source": [
    "mu = 1\n",
    "\n",
    "prob = 1 - ss.poisson.cdf(1, mu)\n",
    "print(f'Probability of two or more stars: {prob}')"
   ]
  },
  {
   "cell_type": "code",
   "execution_count": null,
   "metadata": {},
   "outputs": [],
   "source": [
    "#MATHS TODO"
   ]
  },
  {
   "cell_type": "markdown",
   "metadata": {},
   "source": [
    "\n",
    "### (3.S16) \n",
    "A congested computer network has a 1% chance of losing a data packet that must be resent, and packet losses are independent events. An e-mail message requires 100 packets.\n",
    "\n",
    "- What is the distribution of the number of packets in an e-mail message that must be resent? Include the parameter values.\n",
    "- What is the probability that at least one packet is resent?\n",
    "- What is the probability that two or more packets are resent?\n",
    "- What are the mean and standard deviation of the number of packets that are resent?\n",
    "- If there are 10 messages and each contains 100 packets, what is the probability that at least one message requires that two or more packets be resent?"
   ]
  },
  {
   "cell_type": "code",
   "execution_count": 96,
   "metadata": {},
   "outputs": [],
   "source": [
    "# Binomial\n",
    "n = 100\n",
    "p = 0.01"
   ]
  },
  {
   "cell_type": "code",
   "execution_count": 97,
   "metadata": {},
   "outputs": [
    {
     "name": "stdout",
     "output_type": "stream",
     "text": [
      "Probability of at least one packet being resent: 0.6339676587267704\n"
     ]
    }
   ],
   "source": [
    "prob = 1 - ss.binom.pmf(0, n, p)\n",
    "print(f'Probability of at least one packet being resent: {prob}')"
   ]
  },
  {
   "cell_type": "code",
   "execution_count": 98,
   "metadata": {},
   "outputs": [
    {
     "name": "stdout",
     "output_type": "stream",
     "text": [
      "Probability of two or more being resent: 0.26423802107704375\n"
     ]
    }
   ],
   "source": [
    "prob = 1 - ss.binom.cdf(1, n, p)\n",
    "print(f'Probability of two or more being resent: {prob}')"
   ]
  },
  {
   "cell_type": "code",
   "execution_count": 99,
   "metadata": {},
   "outputs": [
    {
     "name": "stdout",
     "output_type": "stream",
     "text": [
      "Mean: 1.0\n",
      "Standard deviation: 0.99498743710662\n"
     ]
    }
   ],
   "source": [
    "mean = ss.binom.mean(n, p)\n",
    "std = ss.binom.std(n, p)\n",
    "\n",
    "print(f'Mean: {mean}')\n",
    "print(f'Standard deviation: {std}')"
   ]
  },
  {
   "cell_type": "code",
   "execution_count": 100,
   "metadata": {},
   "outputs": [
    {
     "name": "stdout",
     "output_type": "stream",
     "text": [
      "Probability: 0.9535085152866581\n"
     ]
    }
   ],
   "source": [
    "prob2 = 1 - ss.binom.pmf(0, 10, prob)\n",
    "\n",
    "print(f'Probability: {prob2}')"
   ]
  },
  {
   "cell_type": "markdown",
   "metadata": {},
   "source": [
    "\n",
    "### (3.S28) \n",
    "A manufacturer of a consumer electronics product expects 2% of units to fail during the warranty period. A sample of 500 independent units is tracked for warranty performance.\n",
    "- What is the probability that none fails during the warranty period? \n",
    "- What is the expected number of failures during the warranty period?\n",
    "- What is the probability that more than two units fail during the warranty period?"
   ]
  },
  {
   "cell_type": "code",
   "execution_count": 101,
   "metadata": {},
   "outputs": [
    {
     "name": "stdout",
     "output_type": "stream",
     "text": [
      "Probability of none fails: 4.102398514547255e-05 ~ 0\n"
     ]
    }
   ],
   "source": [
    "n = 500\n",
    "p = 0.02\n",
    "prob = ss.binom.pmf(0, n, p)\n",
    "print(f'Probability of none fails: {prob} ~ 0')"
   ]
  },
  {
   "cell_type": "code",
   "execution_count": 102,
   "metadata": {},
   "outputs": [
    {
     "data": {
      "text/plain": [
       "10.0"
      ]
     },
     "execution_count": 102,
     "metadata": {},
     "output_type": "execute_result"
    }
   ],
   "source": [
    "ss.binom.mean(n, p)"
   ]
  },
  {
   "cell_type": "code",
   "execution_count": 104,
   "metadata": {},
   "outputs": [
    {
     "name": "stdout",
     "output_type": "stream",
     "text": [
      "Probability of more than 2 units failing: 0.9974088594871737\n"
     ]
    }
   ],
   "source": [
    "prob = 1 - ss.binom.cdf(2, n, p)\n",
    "print(f'Probability of more than 2 units failing: {prob}')"
   ]
  },
  {
   "cell_type": "markdown",
   "metadata": {},
   "source": [
    "The probability that a patient recovers from a rare blood disease is 0.4. If 15 people are known to have contracted this disease, what is the probability that\n",
    "- at least 10 survive \n",
    "- from 3 to 8 survive\n",
    "- exactly 5 survive\n",
    "- Find the mean and variance."
   ]
  },
  {
   "cell_type": "code",
   "execution_count": 124,
   "metadata": {},
   "outputs": [
    {
     "name": "stdout",
     "output_type": "stream",
     "text": [
      "Probability: 0.033833302884352046\n"
     ]
    }
   ],
   "source": [
    "n = 15\n",
    "p = 0.4\n",
    "\n",
    "prob = 1 - ss.binom.cdf(9, n, p)\n",
    "print(f'Probability: {prob}')"
   ]
  },
  {
   "cell_type": "code",
   "execution_count": 126,
   "metadata": {},
   "outputs": [
    {
     "name": "stdout",
     "output_type": "stream",
     "text": [
      "Probability: 0.877838591066112\n"
     ]
    }
   ],
   "source": [
    "prob = ss.binom.cdf(8, n, p) - ss.binom.cdf(2, n, p)\n",
    "print(f'Probability: {prob}')"
   ]
  },
  {
   "cell_type": "code",
   "execution_count": 127,
   "metadata": {},
   "outputs": [
    {
     "name": "stdout",
     "output_type": "stream",
     "text": [
      "Probability: 0.18593784476467193\n"
     ]
    }
   ],
   "source": [
    "prob = ss.binom.pmf(5, n, p)\n",
    "print(f'Probability: {prob}')"
   ]
  },
  {
   "cell_type": "code",
   "execution_count": 128,
   "metadata": {},
   "outputs": [
    {
     "name": "stdout",
     "output_type": "stream",
     "text": [
      "Mean: 6.0, Variance: 3.5999999999999996\n"
     ]
    }
   ],
   "source": [
    "mean, var = ss.binom.stats(n, p, moments='mv')\n",
    "print(f'Mean: {mean}, Variance: {var}')"
   ]
  },
  {
   "cell_type": "markdown",
   "metadata": {},
   "source": [
    "\n",
    "A large chain retailer purchases a certain kind of electronic device from a manufacturer. The manufac- turer indicates that the defective rate of the device is 3%\n",
    "- The inspector of the retailer randomly picks 20 items from a shipment. What is the probability that there will be at least one defective item among them?\n",
    "- Suppose that the retailer receives 10 shipments in a month and the inspector randomly tests 20 devices per shipment. What is the probability that there will be 3 shipments containing at least one defective device?"
   ]
  },
  {
   "cell_type": "code",
   "execution_count": 129,
   "metadata": {},
   "outputs": [
    {
     "name": "stdout",
     "output_type": "stream",
     "text": [
      "Probability: 0.4562056570732528\n"
     ]
    }
   ],
   "source": [
    "p = 0.03\n",
    "n = 20\n",
    "\n",
    "prob = 1 - ss.binom.pmf(0, n, p)\n",
    "print(f'Probability: {prob}')"
   ]
  },
  {
   "cell_type": "code",
   "execution_count": 130,
   "metadata": {},
   "outputs": [
    {
     "name": "stdout",
     "output_type": "stream",
     "text": [
      "Probability: 0.1602160581178045\n"
     ]
    }
   ],
   "source": [
    "n = 10\n",
    "p = prob\n",
    "\n",
    "prob = ss.binom.pmf(3, n, p)\n",
    "print(f'Probability: {prob}')"
   ]
  },
  {
   "cell_type": "markdown",
   "metadata": {},
   "source": [
    "High flows result in the closure of a causeway. From past records, the road is closed for this reason on 10 days during a 20-year period. At an adjoining village, there is concern about the closure of the causeway because it provides the only access. The villagers assume that the probability of a closure of the road for more than one day during a year is less than 0.10. Is this correct? Please show using the Poisson distribution."
   ]
  },
  {
   "cell_type": "code",
   "execution_count": 139,
   "metadata": {},
   "outputs": [
    {
     "name": "stdout",
     "output_type": "stream",
     "text": [
      "Probability: 0.09020401043104986\n"
     ]
    }
   ],
   "source": [
    "l = 10/20 \n",
    "\n",
    "prob = 1 - ss.poisson.cdf(1, l)\n",
    "print(f'Probability: {prob}')"
   ]
  },
  {
   "cell_type": "markdown",
   "metadata": {},
   "source": [
    "A company performs inspection on shipments from suppliers in order to detect nonconforming products. Assume a lot contains 1000 items and 1% is nonconforming. Assuming that the number of nonconforming products in the sample is binomial, what sample size is needed so that the probability of choosing at least one nonconforming item in the sample is at least 0.9?\n"
   ]
  },
  {
   "cell_type": "code",
   "execution_count": null,
   "metadata": {},
   "outputs": [],
   "source": [
    "#TODO MATHS"
   ]
  },
  {
   "cell_type": "markdown",
   "metadata": {},
   "source": [
    "The number of errors in a textbook follows a Poisson distribution with a mean of 0.01 error per page. What is the probability that there are three or less errors in 100 pages?"
   ]
  },
  {
   "cell_type": "code",
   "execution_count": 143,
   "metadata": {},
   "outputs": [
    {
     "name": "stdout",
     "output_type": "stream",
     "text": [
      "Probability: 0.9810118431238462\n"
     ]
    }
   ],
   "source": [
    "l=0.01*100\n",
    "\n",
    "prob = ss.poisson.cdf(3, l)\n",
    "print(f'Probability: {prob}')"
   ]
  }
 ],
 "metadata": {
  "kernelspec": {
   "display_name": "Python 3.11.7 64-bit",
   "language": "python",
   "name": "python3"
  },
  "language_info": {
   "codemirror_mode": {
    "name": "ipython",
    "version": 3
   },
   "file_extension": ".py",
   "mimetype": "text/x-python",
   "name": "python",
   "nbconvert_exporter": "python",
   "pygments_lexer": "ipython3",
   "version": "3.11.7"
  },
  "orig_nbformat": 4,
  "vscode": {
   "interpreter": {
    "hash": "b0fa6594d8f4cbf19f97940f81e996739fb7646882a419484c72d19e05852a7e"
   }
  }
 },
 "nbformat": 4,
 "nbformat_minor": 2
}
