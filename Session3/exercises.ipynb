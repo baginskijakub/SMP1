{
 "cells": [
  {
   "cell_type": "code",
   "execution_count": 2,
   "metadata": {},
   "outputs": [],
   "source": [
    "#imports\n",
    "from sympy import *\n",
    "import sympy as sp\n",
    "import pandas as pd\n",
    "from matplotlib import pyplot as plt\n",
    "import numpy as np"
   ]
  },
  {
   "cell_type": "markdown",
   "metadata": {},
   "source": [
    "Re-exam 2018.1"
   ]
  },
  {
   "cell_type": "code",
   "execution_count": 9,
   "metadata": {},
   "outputs": [
    {
     "name": "stdout",
     "output_type": "stream",
     "text": [
      "Ex(x)=4.0\n"
     ]
    }
   ],
   "source": [
    "# a)\n",
    "x = sp.Symbol('x')\n",
    "f = (0.25)*x*sp.exp(-x/2)\n",
    "Ex = integrate(x*f, (x,0, np.inf))\n",
    "print(f'Ex(x)={round(float(Ex), 2)}')"
   ]
  },
  {
   "cell_type": "code",
   "execution_count": 11,
   "metadata": {},
   "outputs": [
    {
     "name": "stdout",
     "output_type": "stream",
     "text": [
      "Ex(x)=oo\n"
     ]
    }
   ],
   "source": [
    "# b)\n",
    "x = sp.Symbol('x')\n",
    "f = 5 * x ** (-2)\n",
    "Ex = integrate(x*f, (x, 5, np.inf))\n",
    "print(f'Ex(x)={Ex}')"
   ]
  },
  {
   "cell_type": "code",
   "execution_count": 19,
   "metadata": {},
   "outputs": [
    {
     "name": "stdout",
     "output_type": "stream",
     "text": [
      "a + b/3 = 1\n",
      "a/2 + b/4 = 3/5\n"
     ]
    },
    {
     "data": {
      "text/plain": [
       "{a: 0.600000000000000, b: 1.20000000000000}"
      ]
     },
     "execution_count": 19,
     "metadata": {},
     "output_type": "execute_result"
    }
   ],
   "source": [
    "# c)\n",
    "a,b,x = sp.symbols('a b x')\n",
    "f = a + b*x**2\n",
    "F = integrate(f, (x, 0, 1))\n",
    "Ex = integrate(f*x, (x, 0, 1))\n",
    "print(f'{F} = 1')\n",
    "print(f'{Ex} = 3/5')\n",
    "\n",
    "a,b = sp.symbols('a b')\n",
    "e1 = Eq(a + b/3, 1)\n",
    "e2 = Eq(a/2 + b/4, 3/5)\n",
    "\n",
    "solve((e1, e2), (a, b))"
   ]
  },
  {
   "cell_type": "markdown",
   "metadata": {},
   "source": [
    "Exam 2020.1"
   ]
  },
  {
   "cell_type": "code",
   "execution_count": 57,
   "metadata": {},
   "outputs": [
    {
     "name": "stdout",
     "output_type": "stream",
     "text": [
      "F(x) = 27*q/2 = 1\n",
      "q = 2/27\n"
     ]
    }
   ],
   "source": [
    "# a)\n",
    "x,q,u = sp.symbols('x q u')\n",
    "f = q*(x**2 + x)\n",
    "F = integrate(f, (x, (0, 3)))\n",
    "print(f'F(x) = {F} = 1')\n",
    "e = Eq(F, 1)\n",
    "q = solve(e, q)[0]\n",
    "print(f'q = {q}')"
   ]
  },
  {
   "cell_type": "code",
   "execution_count": 58,
   "metadata": {},
   "outputs": [
    {
     "data": {
      "text/latex": [
       "$\\displaystyle \\frac{2 u^{3}}{81} + \\frac{u^{2}}{27}$"
      ],
      "text/plain": [
       "2*u**3/81 + u**2/27"
      ]
     },
     "execution_count": 58,
     "metadata": {},
     "output_type": "execute_result"
    }
   ],
   "source": [
    "# b)\n",
    "f = q*(x**2 + x)\n",
    "cdf = integrate(f, (x, 0, u))\n",
    "cdf"
   ]
  },
  {
   "cell_type": "code",
   "execution_count": 70,
   "metadata": {},
   "outputs": [
    {
     "name": "stdout",
     "output_type": "stream",
     "text": [
      "P(X<1) = 5/81\n",
      "P(1<X<2) = 23/81\n",
      "P(X>2) = 53/81\n",
      "P(X>2) = 0.141060813900320\n"
     ]
    }
   ],
   "source": [
    "# c)\n",
    "p1 = integrate(f, (x, (0, 1)))\n",
    "print(f'P(X<1) = {p1}')\n",
    "p2 = integrate(f, (x, (1, 2)))\n",
    "print(f'P(1<X<2) = {p2}')\n",
    "p2 = integrate(f, (x, (2, 3)))\n",
    "print(f'P(X>2) = {p2}')\n",
    "p2 = integrate(f, (x, (17/6, 3)))\n",
    "print(f'P(X>2) = {p2}')"
   ]
  },
  {
   "cell_type": "code",
   "execution_count": 66,
   "metadata": {},
   "outputs": [
    {
     "name": "stdout",
     "output_type": "stream",
     "text": [
      "E(x) = 13/6\n"
     ]
    }
   ],
   "source": [
    "# d)\n",
    "mean = integrate(f*x, (x, 0, 3))\n",
    "print(f'E(x) = {mean}')"
   ]
  }
 ],
 "metadata": {
  "kernelspec": {
   "display_name": "Python 3.11.7 64-bit",
   "language": "python",
   "name": "python3"
  },
  "language_info": {
   "codemirror_mode": {
    "name": "ipython",
    "version": 3
   },
   "file_extension": ".py",
   "mimetype": "text/x-python",
   "name": "python",
   "nbconvert_exporter": "python",
   "pygments_lexer": "ipython3",
   "version": "3.11.7"
  },
  "orig_nbformat": 4,
  "vscode": {
   "interpreter": {
    "hash": "b0fa6594d8f4cbf19f97940f81e996739fb7646882a419484c72d19e05852a7e"
   }
  }
 },
 "nbformat": 4,
 "nbformat_minor": 2
}
